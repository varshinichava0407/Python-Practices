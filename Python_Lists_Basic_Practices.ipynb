{
  "nbformat": 4,
  "nbformat_minor": 0,
  "metadata": {
    "colab": {
      "provenance": []
    },
    "kernelspec": {
      "name": "python3",
      "display_name": "Python 3"
    },
    "language_info": {
      "name": "python"
    }
  },
  "cells": [
    {
      "cell_type": "code",
      "execution_count": null,
      "metadata": {
        "colab": {
          "base_uri": "https://localhost:8080/"
        },
        "id": "B-PRpcFwRbs1",
        "outputId": "05d0c69f-6d84-4577-d753-cdd2a80de219"
      },
      "outputs": [
        {
          "output_type": "stream",
          "name": "stdout",
          "text": [
            "[25, 35, 9, 6, 24, 12]\n"
          ]
        }
      ],
      "source": [
        "#Given a list, write a Python program to swap first and last element of the list\n",
        "def l(a):\n",
        "    a[0],a[-1] = a[-1],a[0]\n",
        "    return a\n",
        "\n",
        "a = [12,35,9,6,24,25]\n",
        "print(l(a));\n"
      ]
    },
    {
      "cell_type": "code",
      "source": [
        "#Swapping another way:\n",
        "def l(newlist):\n",
        "  size = len(newlist)\n",
        "  temp = newlist[0]\n",
        "  newlist[0] = newlist[size-1]\n",
        "  newlist[size-1] = temp\n",
        "\n",
        "  return newlist\n",
        "newlist = [12,35,9,6,24,25]\n",
        "print(l(newlist))"
      ],
      "metadata": {
        "colab": {
          "base_uri": "https://localhost:8080/"
        },
        "id": "NNLavhz2cPy5",
        "outputId": "0653d8a3-2881-4296-9054-e5134dc55928"
      },
      "execution_count": null,
      "outputs": [
        {
          "output_type": "stream",
          "name": "stdout",
          "text": [
            "[25, 35, 9, 6, 24, 12]\n"
          ]
        }
      ]
    },
    {
      "cell_type": "code",
      "source": [
        "#swapping another way:\n",
        "def lis(newlist):\n",
        "  start, *middle, end = newlist\n",
        "  newlist = [end,*middle,start]\n",
        "  return newlist\n",
        "\n",
        "newlist = [10,12,13]\n",
        "print(lis(newlist))"
      ],
      "metadata": {
        "colab": {
          "base_uri": "https://localhost:8080/"
        },
        "id": "U-vkGpNidDTa",
        "outputId": "a6cbd6dc-459a-4dd4-d487-9473c9898fc2"
      },
      "execution_count": null,
      "outputs": [
        {
          "output_type": "stream",
          "name": "stdout",
          "text": [
            "[13, 12, 10]\n"
          ]
        }
      ]
    },
    {
      "cell_type": "code",
      "source": [
        "#swapping two elements in a list\n",
        "def lis(newlist,a,b):\n",
        "  size = len(newlist)\n",
        "  pos1 = a\n",
        "  pos2 = b\n",
        "  newlist[pos1],newlist[pos2] = newlist[pos2],newlist[pos1]\n",
        "  return newlist\n",
        "newlist = [1,2,3,4,5]\n",
        "a = 1\n",
        "b = 2\n",
        "print(lis(newlist,a,b))"
      ],
      "metadata": {
        "colab": {
          "base_uri": "https://localhost:8080/"
        },
        "id": "V_jb8GfNgkO9",
        "outputId": "c0c45ed0-0d61-405d-f516-8082d25dafb2"
      },
      "execution_count": null,
      "outputs": [
        {
          "output_type": "stream",
          "name": "stdout",
          "text": [
            "[1, 3, 2, 4, 5]\n"
          ]
        }
      ]
    },
    {
      "cell_type": "code",
      "source": [
        "#another way for swapping two elements in a list\n",
        "def lis(newlist, a, b):\n",
        "    # Swapping the elements at positions a and b\n",
        "    temp = newlist[a]\n",
        "    newlist[a] = newlist[b]\n",
        "    newlist[b] = temp\n",
        "    return newlist\n",
        "\n",
        "# Driver code\n",
        "newlist = [1, 2, 3, 4, 5]\n",
        "a = 1\n",
        "b = 2\n",
        "print(lis(newlist, a, b))\n"
      ],
      "metadata": {
        "colab": {
          "base_uri": "https://localhost:8080/"
        },
        "id": "wfZHFBr2kE5y",
        "outputId": "00f0a2dc-7d60-4744-8565-038c655bc7d5"
      },
      "execution_count": null,
      "outputs": [
        {
          "output_type": "stream",
          "name": "stdout",
          "text": [
            "[1, 3, 2, 4, 5]\n"
          ]
        }
      ]
    },
    {
      "cell_type": "code",
      "source": [
        "#python elements - swapping elements in string list\n",
        "a = 'prep varshini'\n",
        "b = a.replace('varshini','yoshitha')\n",
        "print(b)"
      ],
      "metadata": {
        "id": "ZrTcHH5RlOu3",
        "colab": {
          "base_uri": "https://localhost:8080/"
        },
        "outputId": "ffe1a6e1-9d38-44a5-df73-02aff6cf6573"
      },
      "execution_count": null,
      "outputs": [
        {
          "output_type": "stream",
          "name": "stdout",
          "text": [
            "prep yoshitha\n"
          ]
        }
      ]
    },
    {
      "cell_type": "code",
      "source": [
        "#use replace() + list comprehension\n",
        "# a temporary placeholder - is used to avoid overlapping and to get the expected output\n",
        "test_list = ['Gfg', 'is', 'best', 'for', 'Geeks']\n",
        "\n",
        "res = [sub.replace('G','-').replace('e','G').replace('-','e') for sub in test_list]\n",
        "print(\" The string is:\"+ str(res))\n",
        "\n",
        "# Here str is used for str(res) instead of printing only res is python cannot concat string with list so we need to convert list into string"
      ],
      "metadata": {
        "colab": {
          "base_uri": "https://localhost:8080/"
        },
        "id": "ihSSC3htApZE",
        "outputId": "507856c8-1241-4744-ffba-b5137b99e818"
      },
      "execution_count": null,
      "outputs": [
        {
          "output_type": "stream",
          "name": "stdout",
          "text": [
            " The string is:['efg', 'is', 'bGst', 'for', 'eGGks']\n"
          ]
        }
      ]
    },
    {
      "cell_type": "code",
      "source": [
        "test_list = ['Gfg', 'is', 'best', 'for', 'Geeks']\n",
        "\n",
        "print(\"The original list is:\",str(test_list))\n",
        "\n",
        "#Now perform join\n",
        "\n",
        "res = \",\".join(test_list)\n",
        "print(\"the string after join is:\",str(res))\n",
        "res = res.replace('G','-').replace('e','G').replace('-','e').split(',')\n",
        "\n",
        "print(\"the string after join is:\",str(res))"
      ],
      "metadata": {
        "colab": {
          "base_uri": "https://localhost:8080/"
        },
        "id": "MmkanXuMCj_G",
        "outputId": "ab69dc2e-f639-4916-fa1b-83d713c79880"
      },
      "execution_count": null,
      "outputs": [
        {
          "output_type": "stream",
          "name": "stdout",
          "text": [
            "The original list is: ['Gfg', 'is', 'best', 'for', 'Geeks']\n",
            "the string after join is: Gfg,is,best,for,Geeks\n",
            "the string after join is: ['efg', 'is', 'bGst', 'for', 'eGGks']\n"
          ]
        }
      ]
    },
    {
      "cell_type": "code",
      "source": [
        "#using regular expressions\n",
        "#regex is a powerful tool for pattern matching and text manipulation\n",
        "#import re to work with regex\n",
        "import re\n",
        "test_list = ['Gfg', 'is', 'best', 'for', 'Geeks']\n",
        "print(\"The original list is:\",str(test_list))\n",
        "\n",
        "res = [re.sub('-','e',re.sub('e','G',re.sub('G','-',sub))) for sub in test_list]\n",
        "\n",
        "print(\"the string is:\",str(res))\n"
      ],
      "metadata": {
        "colab": {
          "base_uri": "https://localhost:8080/"
        },
        "id": "E0q4g9EvHlEG",
        "outputId": "516d300a-dba1-4532-8abd-b789f48b0a57"
      },
      "execution_count": null,
      "outputs": [
        {
          "output_type": "stream",
          "name": "stdout",
          "text": [
            "The original list is: ['Gfg', 'is', 'best', 'for', 'Geeks']\n",
            "the string is: ['efg', 'is', 'bGst', 'for', 'eGGks']\n"
          ]
        }
      ]
    },
    {
      "cell_type": "code",
      "source": [
        "#Ways to find the length of a list in python\n",
        "#1.it can be found using len()\n",
        "#2.using naive bayes\n",
        "#using length_hint()\n",
        "#length of a list using sum() function\n",
        "#length can be found using recursion\n",
        "#using enumerate() function"
      ],
      "metadata": {
        "id": "R7RchApRJ5Bv"
      },
      "execution_count": null,
      "outputs": []
    },
    {
      "cell_type": "code",
      "source": [
        "#length of a list\n",
        "l = [1,2,3,4,5]\n",
        "print(len(l))"
      ],
      "metadata": {
        "colab": {
          "base_uri": "https://localhost:8080/"
        },
        "id": "TlWYWCI7J95d",
        "outputId": "ce5336a4-d44c-494e-fd33-4d861dd382b4"
      },
      "execution_count": null,
      "outputs": [
        {
          "output_type": "stream",
          "name": "stdout",
          "text": [
            "5\n"
          ]
        }
      ]
    },
    {
      "cell_type": "code",
      "source": [
        "#naive method\n",
        "a = [1,2,3,4,5]\n",
        "\n",
        "count = 0\n",
        "\n",
        "for i in a:\n",
        "  count = count+1\n",
        "\n",
        "print(count)"
      ],
      "metadata": {
        "colab": {
          "base_uri": "https://localhost:8080/"
        },
        "id": "ElaeFdPYL24D",
        "outputId": "c3c4a072-c1d3-4829-c7b9-feb56d2367f0"
      },
      "execution_count": null,
      "outputs": [
        {
          "output_type": "stream",
          "name": "stdout",
          "text": [
            "5\n"
          ]
        }
      ]
    },
    {
      "cell_type": "code",
      "source": [
        "#using length_hint()\n",
        "from operator import length_hint\n",
        "a = [1,2,3,4,5]\n",
        "\n",
        "n = length_hint(a)\n",
        "\n",
        "print(n)"
      ],
      "metadata": {
        "colab": {
          "base_uri": "https://localhost:8080/"
        },
        "id": "WFUPfQtZL2uK",
        "outputId": "39c6da15-af85-4ae8-dfb7-85de0b00ccd3"
      },
      "execution_count": null,
      "outputs": [
        {
          "output_type": "stream",
          "name": "stdout",
          "text": [
            "5\n"
          ]
        }
      ]
    },
    {
      "cell_type": "code",
      "source": [
        "#length of list using sum() function\n",
        "o = [1, 2, 3, 2, 5]\n",
        "\n",
        "list_len = sum(1 for i in o)\n",
        "\n",
        "print(list_len)"
      ],
      "metadata": {
        "colab": {
          "base_uri": "https://localhost:8080/"
        },
        "id": "IC-Zn4l9Sx5R",
        "outputId": "978457a8-e2c5-4e8b-882d-e3fde09bd15f"
      },
      "execution_count": null,
      "outputs": [
        {
          "output_type": "stream",
          "name": "stdout",
          "text": [
            "5\n"
          ]
        }
      ]
    },
    {
      "cell_type": "code",
      "source": [
        "#length of the list using list comprehension\n",
        "\n",
        "o = [1,2,3,4,5]\n",
        "list_len = sum(1 for _ in o)\n",
        "print(list_len)"
      ],
      "metadata": {
        "colab": {
          "base_uri": "https://localhost:8080/"
        },
        "id": "554iMpxOVdr7",
        "outputId": "5fb56bf1-6dc8-459e-c145-9d34f3d48a01"
      },
      "execution_count": null,
      "outputs": [
        {
          "output_type": "stream",
          "name": "stdout",
          "text": [
            "5\n"
          ]
        }
      ]
    },
    {
      "cell_type": "code",
      "source": [
        "#can be found using recursion\n",
        "def count_elements_recursion(lst):\n",
        "    # Base case: if the list is empty, return 0\n",
        "    if not lst:\n",
        "        return 0\n",
        "    # Recursive case: add 1 to the count of the remaining elements in the list\n",
        "    return 1 + count_elements_recursion(lst[1:])\n",
        "\n",
        "\n",
        "# Test the function with a sample list\n",
        "lst = [1, 2, 3, 4, 5]\n",
        "print(\"The length of the list is:\", count_elements_recursion(lst))\n",
        "\n",
        "# Output: The length of the list is: 5"
      ],
      "metadata": {
        "colab": {
          "base_uri": "https://localhost:8080/"
        },
        "id": "Idl_nmJ8XtRz",
        "outputId": "8cdc2d11-dc1c-4d2a-8b6e-cdfb9f99beb5"
      },
      "execution_count": null,
      "outputs": [
        {
          "output_type": "stream",
          "name": "stdout",
          "text": [
            "The length of the list is: 5\n"
          ]
        }
      ]
    },
    {
      "cell_type": "code",
      "source": [
        "#using enumerate function\n",
        "lis1 = [1,2,3,4,5]\n",
        "s = 0\n",
        "for i in enumerate(lis1):\n",
        "  s+=1\n",
        "print(s)\n"
      ],
      "metadata": {
        "colab": {
          "base_uri": "https://localhost:8080/"
        },
        "id": "467M3_X-ckra",
        "outputId": "8db296b7-f42f-470a-8407-6fc12d3a2015"
      },
      "execution_count": null,
      "outputs": [
        {
          "output_type": "stream",
          "name": "stdout",
          "text": [
            "5\n"
          ]
        }
      ]
    },
    {
      "cell_type": "code",
      "source": [
        "#max of two numbers in python\n",
        "#can be done using maxfunction\n",
        "\n",
        "a = 2\n",
        "b = 4\n",
        "maximum =  max(a,b)\n",
        "print(maximum)"
      ],
      "metadata": {
        "colab": {
          "base_uri": "https://localhost:8080/"
        },
        "id": "xfCP805Ednyt",
        "outputId": "8a437c1e-59a8-4171-d87d-d01571339320"
      },
      "execution_count": null,
      "outputs": [
        {
          "output_type": "stream",
          "name": "stdout",
          "text": [
            "4\n"
          ]
        }
      ]
    },
    {
      "cell_type": "code",
      "source": [
        "#max of two numbers in python\n",
        "#can be done using if else function\n",
        "\n",
        "def maximum(a,b):\n",
        "  if a>=b:\n",
        "    return a\n",
        "  else:\n",
        "    return b\n",
        "a = 2\n",
        "b =4\n",
        "print(maximum(a,b))"
      ],
      "metadata": {
        "colab": {
          "base_uri": "https://localhost:8080/"
        },
        "id": "H1kjnLaJd-sd",
        "outputId": "d2da1b55-d2b4-49b5-b673-091f56cc6b86"
      },
      "execution_count": null,
      "outputs": [
        {
          "output_type": "stream",
          "name": "stdout",
          "text": [
            "4\n"
          ]
        }
      ]
    },
    {
      "cell_type": "code",
      "source": [
        "#max of two numbers in python\n",
        "#can be done using sort function\n",
        "\n",
        "\n",
        "a = 2\n",
        "b =4\n",
        "x = [a,b]\n",
        "x.sort()\n",
        "print(x[-1])"
      ],
      "metadata": {
        "colab": {
          "base_uri": "https://localhost:8080/"
        },
        "id": "5IA3dKiceXQ5",
        "outputId": "9655cf03-0411-48af-e52e-bb40d1c44027"
      },
      "execution_count": null,
      "outputs": [
        {
          "output_type": "stream",
          "name": "stdout",
          "text": [
            "4\n"
          ]
        }
      ]
    },
    {
      "cell_type": "code",
      "source": [
        "#max of two numbers in python\n",
        "#can be done using list comprehension\n",
        "a = 2\n",
        "b =4\n",
        "x = [a if a>b else b]\n",
        "print(x)"
      ],
      "metadata": {
        "colab": {
          "base_uri": "https://localhost:8080/"
        },
        "id": "P5mfpL-Uel9J",
        "outputId": "54f7f5a9-c9fc-4b74-9fcc-b627af261a97"
      },
      "execution_count": null,
      "outputs": [
        {
          "output_type": "stream",
          "name": "stdout",
          "text": [
            "[4]\n"
          ]
        }
      ]
    },
    {
      "cell_type": "code",
      "source": [
        "#max of two numbers in python\n",
        "#can be done using lambda function\n",
        "a = 2; b=4\n",
        "maximun =lambda a,b: a if a>b else b\n",
        "print(f'{maximum(a,b)} is a maximum number')"
      ],
      "metadata": {
        "colab": {
          "base_uri": "https://localhost:8080/"
        },
        "id": "P5e9m8cAfDOo",
        "outputId": "54765281-a4e8-4931-c29c-03e3b3fd0ca9"
      },
      "execution_count": null,
      "outputs": [
        {
          "output_type": "stream",
          "name": "stdout",
          "text": [
            "4 is a maximum number\n"
          ]
        }
      ]
    },
    {
      "cell_type": "code",
      "source": [
        "#min of two numbers in python\n",
        "#can be done using if else\n",
        "def minimum(a,b):\n",
        "  if b>=a:\n",
        "    return a\n",
        "  else:\n",
        "    return b\n",
        "a = 2\n",
        "b =4\n",
        "print(minimum(a,b))\n"
      ],
      "metadata": {
        "colab": {
          "base_uri": "https://localhost:8080/"
        },
        "id": "cF45J-lqfx3X",
        "outputId": "5269f20b-c8e0-4528-a7dd-dabd0e105b7b"
      },
      "execution_count": null,
      "outputs": [
        {
          "output_type": "stream",
          "name": "stdout",
          "text": [
            "2\n"
          ]
        }
      ]
    },
    {
      "cell_type": "code",
      "source": [
        "#using min function\n",
        "\n",
        "a =2; b=4\n",
        "minimum = min(a,b)\n",
        "print(minimum)"
      ],
      "metadata": {
        "colab": {
          "base_uri": "https://localhost:8080/"
        },
        "id": "JcLX8sqTgFq9",
        "outputId": "759e0d6a-9bf3-49b2-eeae-419b1c7aee90"
      },
      "execution_count": null,
      "outputs": [
        {
          "output_type": "stream",
          "name": "stdout",
          "text": [
            "2\n"
          ]
        }
      ]
    },
    {
      "cell_type": "code",
      "source": [
        "#using sorted function\n",
        "a = 2\n",
        "b = 4\n",
        "print(sorted([a, b])[0])"
      ],
      "metadata": {
        "colab": {
          "base_uri": "https://localhost:8080/"
        },
        "id": "hYjor1kMgUYB",
        "outputId": "700bfc2d-90ad-46b1-fbb7-3eb5171000cb"
      },
      "execution_count": null,
      "outputs": [
        {
          "output_type": "stream",
          "name": "stdout",
          "text": [
            "2\n"
          ]
        }
      ]
    },
    {
      "cell_type": "code",
      "source": [
        "from functools import reduce\n",
        "\n",
        "a = 2\n",
        "b = 4\n",
        "minimum = reduce(lambda x, y: x if x < y else y, [a, b])\n",
        "print(minimum)"
      ],
      "metadata": {
        "id": "q1Mtg7XOgjVu",
        "outputId": "7eb701e0-ea98-4871-ce11-a021368df9e6",
        "colab": {
          "base_uri": "https://localhost:8080/"
        }
      },
      "execution_count": null,
      "outputs": [
        {
          "output_type": "stream",
          "name": "stdout",
          "text": [
            "2\n"
          ]
        }
      ]
    },
    {
      "cell_type": "code",
      "source": [
        "#check if element exists in list in python\n",
        "def createlist(my_list, x):\n",
        "   return x in my_list\n",
        "\n",
        "my_list = [1,2,3,4,5]\n",
        "x = 3\n",
        "\n",
        "result = createlist(my_list,x)\n",
        "print(result)\n",
        "\n"
      ],
      "metadata": {
        "colab": {
          "base_uri": "https://localhost:8080/"
        },
        "id": "bBqhW7_Z0ijO",
        "outputId": "afacf3f6-80a7-422c-ef18-b752a6621a2b"
      },
      "execution_count": null,
      "outputs": [
        {
          "output_type": "stream",
          "name": "stdout",
          "text": [
            "True\n"
          ]
        }
      ]
    },
    {
      "cell_type": "code",
      "source": [
        "def createlist(my_list,x):\n",
        "  if x in my_list:\n",
        "    return x\n",
        "  else:\n",
        "    return \"not present\"\n",
        "\n",
        "my_list = [1,2,3,4,5]\n",
        "result = createlist(my_list,x)\n",
        "print(result)\n"
      ],
      "metadata": {
        "colab": {
          "base_uri": "https://localhost:8080/"
        },
        "id": "IH-Rn9Wm26BM",
        "outputId": "e3b49ed3-0d75-40fa-ad6c-a89c921b9135"
      },
      "execution_count": null,
      "outputs": [
        {
          "output_type": "stream",
          "name": "stdout",
          "text": [
            "3\n"
          ]
        }
      ]
    },
    {
      "cell_type": "code",
      "source": [
        "#using in\n",
        "l = [1,2,3,4,5]\n",
        "i = 6\n",
        "if i in l:\n",
        "  print(\"number exists\")\n",
        "else:\n",
        "  print(\"number doesnot exist\")"
      ],
      "metadata": {
        "colab": {
          "base_uri": "https://localhost:8080/"
        },
        "id": "syi2g3GYDkPt",
        "outputId": "638cf248-524e-4799-aff4-94b700d0da75"
      },
      "execution_count": null,
      "outputs": [
        {
          "output_type": "stream",
          "name": "stdout",
          "text": [
            "number doesnot exist\n"
          ]
        }
      ]
    },
    {
      "cell_type": "code",
      "source": [
        "#ways to clear list in python\n",
        "l = [2,3,6,7]\n",
        "print(\"befor:\",l)\n",
        "l.clear()\n",
        "print(\"after:\",l)"
      ],
      "metadata": {
        "colab": {
          "base_uri": "https://localhost:8080/"
        },
        "id": "NePV1uFREV1Z",
        "outputId": "bb785b5a-a370-4c79-cf9f-d73149593e14"
      },
      "execution_count": null,
      "outputs": [
        {
          "output_type": "stream",
          "name": "stdout",
          "text": [
            "befor: [2, 3, 6, 7]\n",
            "after: []\n"
          ]
        }
      ]
    },
    {
      "cell_type": "code",
      "source": [
        "#reinitializing the list\n",
        "list1 = [1,2,3]\n",
        "print(\"Before:\",list1)\n",
        "list1 = []\n",
        "print(\"After:\",list1)"
      ],
      "metadata": {
        "colab": {
          "base_uri": "https://localhost:8080/"
        },
        "id": "hmb6dlRmEpMN",
        "outputId": "94205908-ba03-4bf0-b23c-9727b4a8bab3"
      },
      "execution_count": null,
      "outputs": [
        {
          "output_type": "stream",
          "name": "stdout",
          "text": [
            "Before: [1, 2, 3]\n",
            "After: []\n"
          ]
        }
      ]
    },
    {
      "cell_type": "code",
      "source": [
        "#using *= 0\n",
        "list1 = [1,2,3]\n",
        "print(\"Before:\",list1)\n",
        "list1 *= 0\n",
        "print(\"After:\",list1)"
      ],
      "metadata": {
        "colab": {
          "base_uri": "https://localhost:8080/"
        },
        "id": "POB6elcRFR6J",
        "outputId": "1aed3546-57f9-4aa4-ce05-dfcfd61423b4"
      },
      "execution_count": null,
      "outputs": [
        {
          "output_type": "stream",
          "name": "stdout",
          "text": [
            "Before: [1, 2, 3]\n",
            "After: []\n"
          ]
        }
      ]
    },
    {
      "cell_type": "code",
      "source": [
        "#using del\n",
        "#using *= 0\n",
        "list1 = [1,2,3]\n",
        "print(\"Before:\",list1)\n",
        "del list1[:]\n",
        "print(\"After:\",list1)"
      ],
      "metadata": {
        "colab": {
          "base_uri": "https://localhost:8080/"
        },
        "id": "BvhcMfGzFbUN",
        "outputId": "c4e1b715-1c9e-490d-b2a3-c4f8e9c44862"
      },
      "execution_count": null,
      "outputs": [
        {
          "output_type": "stream",
          "name": "stdout",
          "text": [
            "Before: [1, 2, 3]\n",
            "After: []\n"
          ]
        }
      ]
    },
    {
      "cell_type": "code",
      "source": [
        "list1 = [1, 2, 3]\n",
        "\n",
        "# Printing list1 before deleting\n",
        "print(\"List1 before deleting is : \" + str(list1))\n",
        "\n",
        "# deleting list1\n",
        "while(len(list1) != 0):\n",
        "    list1.pop()\n",
        "print(\"List1 after clearing using del : \" + str(list1))"
      ],
      "metadata": {
        "colab": {
          "base_uri": "https://localhost:8080/"
        },
        "id": "HbmpUj3lFoKm",
        "outputId": "e10e335a-8415-451b-b96b-41506c3830ee"
      },
      "execution_count": null,
      "outputs": [
        {
          "output_type": "stream",
          "name": "stdout",
          "text": [
            "List1 before deleting is : [1, 2, 3]\n",
            "List1 after clearing using del : []\n"
          ]
        }
      ]
    },
    {
      "cell_type": "code",
      "source": [
        "#reversing a list\n",
        "#slicing techniue\n",
        "a = [1,2,3,4,5]\n",
        "\n",
        "reversed_list = a[::-1]\n",
        "print(reversed_list)\n"
      ],
      "metadata": {
        "colab": {
          "base_uri": "https://localhost:8080/"
        },
        "id": "wkC3I5aKFsPy",
        "outputId": "7cd030fb-f951-4347-abc7-f7863f76fe59"
      },
      "execution_count": null,
      "outputs": [
        {
          "output_type": "stream",
          "name": "stdout",
          "text": [
            "[5, 4, 3, 2, 1]\n"
          ]
        }
      ]
    },
    {
      "cell_type": "code",
      "source": [
        "#reversing the list\n",
        "#using loops and functions\n",
        "def rev_function(arr,size):\n",
        "   i = 0\n",
        "   while i < size//2:\n",
        "    arr[i],arr[size-i-1] = arr[size-i-1],arr[i]\n",
        "    i +=1\n",
        "   return arr\n",
        "arr = [1,2,3,4,5]\n",
        "size = 5\n",
        "print(\"array after reversing:\",rev_function(arr,size))"
      ],
      "metadata": {
        "colab": {
          "base_uri": "https://localhost:8080/"
        },
        "id": "0wnZbR5KHpeB",
        "outputId": "3dbe27e8-a9bc-461b-c41d-ae920f79155f"
      },
      "execution_count": null,
      "outputs": [
        {
          "output_type": "stream",
          "name": "stdout",
          "text": [
            "array after reversing: [5, 4, 3, 2, 1]\n"
          ]
        }
      ]
    },
    {
      "cell_type": "code",
      "source": [
        "#reverse list using the reversed() and the reverse() built in function\n",
        "\n",
        "a = [1,2,3,4,5]\n",
        "a.reverse()\n",
        "print(a)\n",
        "\n",
        "c = [ 5, 4, 3, 2, 1]\n",
        "list(reversed(c))\n",
        "print(c)"
      ],
      "metadata": {
        "colab": {
          "base_uri": "https://localhost:8080/"
        },
        "id": "yp3DZx_7L7Ux",
        "outputId": "ccd5ff5e-07ee-436f-92af-b5b33a614837"
      },
      "execution_count": null,
      "outputs": [
        {
          "output_type": "stream",
          "name": "stdout",
          "text": [
            "[5, 4, 3, 2, 1]\n",
            "[5, 4, 3, 2, 1]\n"
          ]
        }
      ]
    },
    {
      "cell_type": "code",
      "source": [
        "#reversing a sub list from specific index to another specific index\n",
        "my_list = [1, 2, 3, 4, 5]\n",
        "print('Original list:', my_list)\n",
        "my_list[1:4] = my_list[1:4][::-1]\n",
        "print('Reversed sublist:', my_list)"
      ],
      "metadata": {
        "colab": {
          "base_uri": "https://localhost:8080/"
        },
        "id": "S-UvVUBBNZYh",
        "outputId": "dc6895b5-c731-4924-fe88-3c2c87978f6e"
      },
      "execution_count": null,
      "outputs": [
        {
          "output_type": "stream",
          "name": "stdout",
          "text": [
            "Original list: [1, 2, 3, 4, 5]\n",
            "Reversed sublist: [1, 4, 3, 2, 5]\n"
          ]
        }
      ]
    },
    {
      "cell_type": "code",
      "source": [
        "#accessing elements in reverse order\n",
        "my_list = [1, 2, 3, 4, 5]\n",
        "for element in reversed(my_list):\n",
        "    print(element)"
      ],
      "metadata": {
        "colab": {
          "base_uri": "https://localhost:8080/"
        },
        "id": "hyQZ3XeHNr-z",
        "outputId": "fa332523-572b-4484-ceb9-fac9f4e9ec7f"
      },
      "execution_count": null,
      "outputs": [
        {
          "output_type": "stream",
          "name": "stdout",
          "text": [
            "5\n",
            "4\n",
            "3\n",
            "2\n",
            "1\n"
          ]
        }
      ]
    },
    {
      "cell_type": "code",
      "source": [
        "#cloning or copying a list\n",
        "#use the slicing technique\n",
        "\n",
        "def copying(lis1):\n",
        "  li1 =  lis1[:]\n",
        "  return li1\n",
        "\n",
        "lis1 = [1,2,3,4,5,6]\n",
        "li2 = copying(lis1)\n",
        "print(\"Original lsit:\", li2)"
      ],
      "metadata": {
        "colab": {
          "base_uri": "https://localhost:8080/"
        },
        "id": "kfp1-uWxoAFU",
        "outputId": "1733cf23-6176-4c12-a90c-edea11f0e581"
      },
      "execution_count": null,
      "outputs": [
        {
          "output_type": "stream",
          "name": "stdout",
          "text": [
            "Original lsit: [1, 2, 3, 4, 5, 6]\n"
          ]
        }
      ]
    },
    {
      "cell_type": "code",
      "source": [
        "#copying using extend method\n",
        "def cloning(l1):\n",
        "  l1_copy = []\n",
        "  l1_copy.extend(l1)\n",
        "  return l1_copy\n",
        "l1 = [1,2,3,4,5]\n",
        "print(cloning(l1))"
      ],
      "metadata": {
        "colab": {
          "base_uri": "https://localhost:8080/"
        },
        "id": "0O1MOFsSp-Hv",
        "outputId": "efe6f31c-e7a1-44ab-b589-f8bf756e4c16"
      },
      "execution_count": null,
      "outputs": [
        {
          "output_type": "stream",
          "name": "stdout",
          "text": [
            "[1, 2, 3, 4, 5]\n"
          ]
        }
      ]
    },
    {
      "cell_type": "code",
      "source": [
        "# Python code to clone or copy a list\n",
        "# Using the List copy using =\n",
        "def Cloning(li1):\n",
        "    li_copy = li1\n",
        "    return li_copy\n",
        "\n",
        "# Driver Code\n",
        "li1 = [4, 8, 2, 10, 15, 18]\n",
        "li2 = Cloning(li1)\n",
        "print(\"Original List:\", li1)\n",
        "print(\"After Cloning:\", li2)"
      ],
      "metadata": {
        "colab": {
          "base_uri": "https://localhost:8080/"
        },
        "id": "Yip6r5Guq-uC",
        "outputId": "6497d0b2-6efa-4cf3-fc53-0178066d8c3f"
      },
      "execution_count": null,
      "outputs": [
        {
          "output_type": "stream",
          "name": "stdout",
          "text": [
            "Original List: [4, 8, 2, 10, 15, 18]\n",
            "After Cloning: [4, 8, 2, 10, 15, 18]\n"
          ]
        }
      ]
    },
    {
      "cell_type": "code",
      "source": [
        "# importing copy module\n",
        "import copy\n",
        "\n",
        "# initializing list 1\n",
        "li1 = [1, 2, [3,5], 4]\n",
        "\n",
        "# using copy for shallow copy\n",
        "li2 = copy.copy(li1)\n",
        "\n",
        "print(li2)"
      ],
      "metadata": {
        "colab": {
          "base_uri": "https://localhost:8080/"
        },
        "id": "39VDmzzTrJi-",
        "outputId": "f441a6f6-4ba8-423a-a484-c4d62562c691"
      },
      "execution_count": null,
      "outputs": [
        {
          "output_type": "stream",
          "name": "stdout",
          "text": [
            "[1, 2, [3, 5], 4]\n"
          ]
        }
      ]
    },
    {
      "cell_type": "code",
      "source": [
        "# Using list comprehension\n",
        "def Cloning(li1):\n",
        "    li_copy = [i for i in li1]\n",
        "    return li_copy\n",
        "\n",
        "# Driver Code\n",
        "li1 = [4, 8, 2, 10, 15, 18]\n",
        "li2 = Cloning(li1)\n",
        "print(\"Original List:\", li1)\n",
        "print(\"After Cloning:\", li2)"
      ],
      "metadata": {
        "colab": {
          "base_uri": "https://localhost:8080/"
        },
        "id": "SfYdRp7JrZAI",
        "outputId": "a21d8e7e-5198-4be4-f363-cc435b7eef39"
      },
      "execution_count": null,
      "outputs": [
        {
          "output_type": "stream",
          "name": "stdout",
          "text": [
            "Original List: [4, 8, 2, 10, 15, 18]\n",
            "After Cloning: [4, 8, 2, 10, 15, 18]\n"
          ]
        }
      ]
    },
    {
      "cell_type": "code",
      "source": [
        "#Count occurences of an element in a list\n",
        "def lis(lis1,x):\n",
        "  i = 0\n",
        "  for ele in lis1:\n",
        "    if (ele==x):\n",
        "      i = i+1\n",
        "\n",
        "  return i\n",
        "\n",
        "lis1 = [1,2,3,4,5,6,5,5]\n",
        "x = 6\n",
        "print(lis(lis1,x))"
      ],
      "metadata": {
        "colab": {
          "base_uri": "https://localhost:8080/"
        },
        "id": "AVuRVd8Wrm0p",
        "outputId": "54a18310-c354-4678-e937-52108a2e49e9"
      },
      "execution_count": null,
      "outputs": [
        {
          "output_type": "stream",
          "name": "stdout",
          "text": [
            "1\n"
          ]
        }
      ]
    },
    {
      "cell_type": "markdown",
      "source": [
        "#using the pandas series value counts() function\n",
        "Pandas Series.value_counts() function return a Series containing counts of unique values. The resulting object will be in descending order so that the first element is the most frequently-occurring element."
      ],
      "metadata": {
        "id": "g8quHyB6tgaX"
      }
    },
    {
      "cell_type": "code",
      "source": [
        "import pandas as pd\n",
        "\n",
        "lis1 = [1, 2, 3, 4, 5, 6, 5, 5]\n",
        "\n",
        "# Creating a Series from the list and then using value_counts()\n",
        "count = pd.Series(lis1).value_counts()\n",
        "\n",
        "print(count)\n"
      ],
      "metadata": {
        "colab": {
          "base_uri": "https://localhost:8080/"
        },
        "id": "PgxShvLcuJAg",
        "outputId": "497530e7-6d28-4c4c-b37e-0954f25c0a4d"
      },
      "execution_count": null,
      "outputs": [
        {
          "output_type": "stream",
          "name": "stdout",
          "text": [
            "5    3\n",
            "1    1\n",
            "2    1\n",
            "3    1\n",
            "4    1\n",
            "6    1\n",
            "Name: count, dtype: int64\n"
          ]
        }
      ]
    },
    {
      "cell_type": "code",
      "source": [
        "#sum and average of a list in python\n",
        "l = [1,2,3,4,5,6]\n",
        "i = 0\n",
        "for k in l:\n",
        "  i+=k\n",
        "print(\"sum is:\",i)\n",
        "\n",
        "avg = i/len(l)\n",
        "\n",
        "print(\"avg is:\", avg)\n",
        "\n"
      ],
      "metadata": {
        "colab": {
          "base_uri": "https://localhost:8080/"
        },
        "id": "Sd_EpNwhuzCz",
        "outputId": "88ba826d-1cbe-4c45-b7be-07937092e2cf"
      },
      "execution_count": null,
      "outputs": [
        {
          "output_type": "stream",
          "name": "stdout",
          "text": [
            "sum is: 21\n",
            "avg is: 3.5\n"
          ]
        }
      ]
    },
    {
      "cell_type": "code",
      "source": [
        "#sum of number digits in list\n",
        "l = [12,30,14,15]\n",
        "print(\"list is:\", l)\n",
        "\n",
        "new_list = []\n",
        "for ele in l:\n",
        "  sum = 0\n",
        "  for digit in str(ele):\n",
        "    sum+=int(digit)\n",
        "  new_list.append(sum)\n",
        "\n",
        "print(str(new_list))"
      ],
      "metadata": {
        "colab": {
          "base_uri": "https://localhost:8080/"
        },
        "id": "2h_e2XyhxR2Q",
        "outputId": "abfce02c-72b4-4501-99f2-3a074f811191"
      },
      "execution_count": null,
      "outputs": [
        {
          "output_type": "stream",
          "name": "stdout",
          "text": [
            "list is: [12, 30, 14, 15]\n",
            "[3, 3, 5, 6]\n"
          ]
        }
      ]
    },
    {
      "cell_type": "markdown",
      "source": [
        "using numpy"
      ],
      "metadata": {
        "id": "Sy_kXhF323dc"
      }
    },
    {
      "cell_type": "code",
      "source": [
        "import numpy as np\n",
        "test_list = [12,13,14,15,16]\n",
        "print(\"The original list is:\",test_list)\n",
        "res = np.sum([list(map(int,str(ele))) for ele in test_list],axis = 1)\n",
        "print(str(res))"
      ],
      "metadata": {
        "colab": {
          "base_uri": "https://localhost:8080/"
        },
        "id": "SC-GcCArzx6V",
        "outputId": "68a2b6af-869e-408e-859a-dc07874fa842"
      },
      "execution_count": null,
      "outputs": [
        {
          "output_type": "stream",
          "name": "stdout",
          "text": [
            "The original list is: [12, 13, 14, 15, 16]\n",
            "[3 4 5 6 7]\n"
          ]
        }
      ]
    },
    {
      "cell_type": "markdown",
      "source": [
        "#every time each number is converted into a string because each character is treated separetly. 12 is 1 and 2, 13 is 1 and 3"
      ],
      "metadata": {
        "id": "m4lsxNjs4nET"
      }
    },
    {
      "cell_type": "code",
      "source": [
        "#multiply all numbers in a list\n",
        "lis1 = [1,2,3]\n",
        "result  = 1\n",
        "for i in lis1:\n",
        "  result = result*i\n",
        "\n",
        "print(\"result after multiplication:\",result)"
      ],
      "metadata": {
        "colab": {
          "base_uri": "https://localhost:8080/"
        },
        "id": "zO0eLg4c4yxT",
        "outputId": "41331c92-2dcd-4129-da32-3cddcb961048"
      },
      "execution_count": null,
      "outputs": [
        {
          "output_type": "stream",
          "name": "stdout",
          "text": [
            "result after multiplication: 6\n"
          ]
        }
      ]
    },
    {
      "cell_type": "code",
      "source": [
        "import numpy\n",
        "#the other way is using numpy.prod\n",
        "\n",
        "lis1 = [1,2,3]\n",
        "result = numpy.prod(lis1)\n",
        "print(result)\n"
      ],
      "metadata": {
        "colab": {
          "base_uri": "https://localhost:8080/"
        },
        "id": "jsn4Q8JyCfaL",
        "outputId": "6816667c-3a77-490a-e017-b8cde937c091"
      },
      "execution_count": null,
      "outputs": [
        {
          "output_type": "stream",
          "name": "stdout",
          "text": [
            "6\n"
          ]
        }
      ]
    },
    {
      "cell_type": "code",
      "source": [
        "#write a program to find the smallest number in a list\n",
        "l = [23,45,32,4,56]\n",
        "min = l[0]\n",
        "for i in range(len(l)):\n",
        "  if l[i]<min:\n",
        "    min = l[i]\n",
        "print(min)\n",
        "print(range(len(l)))"
      ],
      "metadata": {
        "colab": {
          "base_uri": "https://localhost:8080/"
        },
        "id": "posHQufODVtP",
        "outputId": "335295d3-f95e-4997-c1e6-1f38c217e391"
      },
      "execution_count": null,
      "outputs": [
        {
          "output_type": "stream",
          "name": "stdout",
          "text": [
            "4\n",
            "range(0, 5)\n"
          ]
        }
      ]
    },
    {
      "cell_type": "code",
      "source": [
        "#there are also min function, .sort function to find the min number\n"
      ],
      "metadata": {
        "colab": {
          "base_uri": "https://localhost:8080/"
        },
        "id": "HbLH-v1tIGuL",
        "outputId": "2bf22070-5835-40a4-923b-ba2e4dfdfe88"
      },
      "execution_count": null,
      "outputs": [
        {
          "output_type": "stream",
          "name": "stdout",
          "text": [
            "Smallest element is: 1\n"
          ]
        }
      ]
    },
    {
      "cell_type": "code",
      "source": [
        "#also find the largest number in a list\n",
        "#using sort function\n",
        "\n",
        "l = [1,2,3,5,4]\n",
        "l.sort()\n",
        "print(l[-1])"
      ],
      "metadata": {
        "colab": {
          "base_uri": "https://localhost:8080/"
        },
        "id": "1nyHlurALyPB",
        "outputId": "c226b7af-3fd1-49fd-da1f-40c9f9f104f9"
      },
      "execution_count": null,
      "outputs": [
        {
          "output_type": "stream",
          "name": "stdout",
          "text": [
            "5\n"
          ]
        }
      ]
    },
    {
      "cell_type": "code",
      "source": [
        "#using traverse\n",
        "\n",
        "l = [1,2,3,6,5]\n",
        "max = l[0]\n",
        "for i in range(len(l)):\n",
        "  if l[i]> max:\n",
        "    max = l[i]\n",
        "\n",
        "print(max)"
      ],
      "metadata": {
        "colab": {
          "base_uri": "https://localhost:8080/"
        },
        "id": "KoMX2dhmMFjJ",
        "outputId": "9c9d2eac-02ca-4d8f-b7d4-4cf9bec13883"
      },
      "execution_count": null,
      "outputs": [
        {
          "output_type": "stream",
          "name": "stdout",
          "text": [
            "6\n"
          ]
        }
      ]
    },
    {
      "cell_type": "code",
      "source": [
        "#program to find the second largest number in a list\n",
        "l = [1,2,3,4,5]\n",
        "l.sort()\n",
        "print(l[-2])"
      ],
      "metadata": {
        "colab": {
          "base_uri": "https://localhost:8080/"
        },
        "id": "rdXPrcBsNNs6",
        "outputId": "636896ab-2b61-4ef8-e687-d3126f8c51e2"
      },
      "execution_count": null,
      "outputs": [
        {
          "output_type": "stream",
          "name": "stdout",
          "text": [
            "4\n"
          ]
        }
      ]
    },
    {
      "cell_type": "code",
      "source": [
        "# Define the list of numbers\n",
        "numbers = [10, 20, 4, 45, 99, 99, 99]\n",
        "\n",
        "# Initialize variables for the largest and second largest numbers\n",
        "largest = None\n",
        "second_largest = None\n",
        "\n",
        "# Iterate through each number in the list\n",
        "for number in numbers:\n",
        "    # Update the largest and second largest numbers\n",
        "    if largest is None or number > largest:\n",
        "        # Update second largest to the old largest\n",
        "        second_largest = largest\n",
        "        # Update largest to the current number\n",
        "        largest = number\n",
        "    elif number != largest and (second_largest is None or number > second_largest):\n",
        "        # Update second largest if the current number is less than largest but greater than second largest\n",
        "        second_largest = number\n",
        "\n",
        "# Check if we found a second largest number\n",
        "if second_largest is None:\n",
        "    print(\"No second largest number found\")\n",
        "else:\n",
        "    print(\"The second largest number is:\", second_largest)"
      ],
      "metadata": {
        "colab": {
          "base_uri": "https://localhost:8080/"
        },
        "id": "Tnvx3LdWNdH5",
        "outputId": "e820a6ff-e683-4503-a7b4-1056393ec524"
      },
      "execution_count": null,
      "outputs": [
        {
          "output_type": "stream",
          "name": "stdout",
          "text": [
            "The second largest number is: 45\n"
          ]
        }
      ]
    },
    {
      "cell_type": "code",
      "source": [
        "# Python program to print Even Numbers in a List\n",
        "\n",
        "# list of numbers\n",
        "list1 = [10, 21, 4, 45, 66, 93]\n",
        "\n",
        "# iterating each number in list\n",
        "for num in list1:\n",
        "\n",
        "    # checking condition\n",
        "    if num % 2 == 0:\n",
        "        print(num, end=\" \")\n"
      ],
      "metadata": {
        "colab": {
          "base_uri": "https://localhost:8080/"
        },
        "id": "xvvrUHRlV_01",
        "outputId": "8ce8eeef-d2d1-4106-f0dd-309472a421e8"
      },
      "execution_count": null,
      "outputs": [
        {
          "output_type": "stream",
          "name": "stdout",
          "text": [
            "10 4 66 "
          ]
        }
      ]
    },
    {
      "cell_type": "code",
      "source": [
        "# Python Program to print odd numbers in a list\n",
        "\n",
        "for num in list1:\n",
        "\n",
        "    # checking condition\n",
        "    if num % 2 != 0:\n",
        "        print(num, end=\" \")"
      ],
      "metadata": {
        "colab": {
          "base_uri": "https://localhost:8080/"
        },
        "id": "0GuGJsK8WfSD",
        "outputId": "1f909f3f-f11d-4043-b358-9b805d261e76"
      },
      "execution_count": null,
      "outputs": [
        {
          "output_type": "stream",
          "name": "stdout",
          "text": [
            "21 45 93 "
          ]
        }
      ]
    },
    {
      "cell_type": "code",
      "source": [
        "for i in range (4,15,2):\n",
        "  print(i)"
      ],
      "metadata": {
        "colab": {
          "base_uri": "https://localhost:8080/"
        },
        "id": "OI6ld8kaYHNM",
        "outputId": "43e5d6e7-25bd-4c2b-f88e-2e50fdab4d79"
      },
      "execution_count": null,
      "outputs": [
        {
          "output_type": "stream",
          "name": "stdout",
          "text": [
            "4\n",
            "6\n",
            "8\n",
            "10\n",
            "12\n",
            "14\n"
          ]
        }
      ]
    },
    {
      "cell_type": "code",
      "source": [
        "#print all odd numbers in a specified range\n",
        "start, end = 4,19\n",
        "for i in range(start, end+1):\n",
        "  if i%2!=0:\n",
        "    print(i)"
      ],
      "metadata": {
        "colab": {
          "base_uri": "https://localhost:8080/"
        },
        "id": "Jt7MbEWkYjHj",
        "outputId": "f5c49771-d8a7-478b-a3dd-8398a4eb7673"
      },
      "execution_count": null,
      "outputs": [
        {
          "output_type": "stream",
          "name": "stdout",
          "text": [
            "5\n",
            "7\n",
            "9\n",
            "11\n",
            "13\n",
            "15\n",
            "17\n",
            "19\n"
          ]
        }
      ]
    },
    {
      "cell_type": "code",
      "source": [
        "#program to count even and odd numbers in a list\n",
        "\n",
        "l = [21,22,23,24,25,26,27]\n",
        "count_even = 0\n",
        "count_odd = 0\n",
        "\n",
        "for i in l:\n",
        "  if(i%2==0):\n",
        "    count_even+=1\n",
        "  else:\n",
        "    count_odd+=1\n",
        "\n",
        "print(count_even)\n",
        "print(count_odd)\n"
      ],
      "metadata": {
        "colab": {
          "base_uri": "https://localhost:8080/"
        },
        "id": "3SfCzEKmY70l",
        "outputId": "6f0ccc3f-dd2d-4e34-cb43-ca1646882345"
      },
      "execution_count": null,
      "outputs": [
        {
          "output_type": "stream",
          "name": "stdout",
          "text": [
            "3\n",
            "4\n"
          ]
        }
      ]
    },
    {
      "cell_type": "code",
      "source": [
        "#python program to print positive numbers in a list\n",
        "list1 = [12, -7, 5, 64, -14]\n",
        "\n",
        "for i in list1:\n",
        "  if i > 0:\n",
        "    print(i)"
      ],
      "metadata": {
        "colab": {
          "base_uri": "https://localhost:8080/"
        },
        "id": "gzNIyepLZ61o",
        "outputId": "1f55516a-23d7-4864-d87b-513a5faeff29"
      },
      "execution_count": null,
      "outputs": [
        {
          "output_type": "stream",
          "name": "stdout",
          "text": [
            "12\n",
            "5\n",
            "64\n"
          ]
        }
      ]
    },
    {
      "cell_type": "code",
      "source": [
        "#python program to print negative numbers in a list\n",
        "list1 = [12, -7, 5, 64, -14]\n",
        "\n",
        "for i in list1:\n",
        "  if i < 0:\n",
        "    print(i)"
      ],
      "metadata": {
        "colab": {
          "base_uri": "https://localhost:8080/"
        },
        "id": "eMwBNG0aaaQ6",
        "outputId": "de641707-9672-469a-b641-6b4fc4bcb7c3"
      },
      "execution_count": null,
      "outputs": [
        {
          "output_type": "stream",
          "name": "stdout",
          "text": [
            "-7\n",
            "-14\n"
          ]
        }
      ]
    },
    {
      "cell_type": "code",
      "source": [
        "#python program to print all positive numbers in a range\n",
        "\n",
        "for i in range(-5,15):\n",
        "  if i > 0:\n",
        "    print(i)"
      ],
      "metadata": {
        "colab": {
          "base_uri": "https://localhost:8080/"
        },
        "id": "BJtMkSWValfV",
        "outputId": "335d36d3-c7ea-4bd8-e340-ab1fa6785f0f"
      },
      "execution_count": null,
      "outputs": [
        {
          "output_type": "stream",
          "name": "stdout",
          "text": [
            "1\n",
            "2\n",
            "3\n",
            "4\n",
            "5\n",
            "6\n",
            "7\n",
            "8\n",
            "9\n",
            "10\n",
            "11\n",
            "12\n",
            "13\n",
            "14\n"
          ]
        }
      ]
    },
    {
      "cell_type": "code",
      "source": [
        "#python program to print all -ve numbers in a range\n",
        "\n",
        "for i in range(-5,15):\n",
        "  if i < 0:\n",
        "    print(i)"
      ],
      "metadata": {
        "colab": {
          "base_uri": "https://localhost:8080/"
        },
        "id": "9A8zfNBpa054",
        "outputId": "ca8f2720-d0a9-4ac2-9327-2bcf66fc0a92"
      },
      "execution_count": null,
      "outputs": [
        {
          "output_type": "stream",
          "name": "stdout",
          "text": [
            "-5\n",
            "-4\n",
            "-3\n",
            "-2\n",
            "-1\n"
          ]
        }
      ]
    },
    {
      "cell_type": "code",
      "source": [
        "#python program to count postive and negative numbers in a list\n",
        "count_p = 0\n",
        "count_n = 0\n",
        "for i in range(-5,15):\n",
        "  if (i<0):\n",
        "    count_n+=1\n",
        "  else:\n",
        "    count_p+=1\n",
        "print(count_p)\n",
        "print(count_n)"
      ],
      "metadata": {
        "colab": {
          "base_uri": "https://localhost:8080/"
        },
        "id": "zVc5Si4Aa6Rr",
        "outputId": "edce26f8-0105-462a-95a0-28e2c5134e2d"
      },
      "execution_count": null,
      "outputs": [
        {
          "output_type": "stream",
          "name": "stdout",
          "text": [
            "15\n",
            "5\n"
          ]
        }
      ]
    },
    {
      "cell_type": "code",
      "source": [
        "#remove multiple elements from a list in python\n",
        "\n",
        "lis = [1,2,3,4,5,6]\n",
        "\n",
        "l = [5,6]\n",
        "\n",
        "for i in lis:\n",
        "  if i not in l:\n",
        "    print(i)\n"
      ],
      "metadata": {
        "colab": {
          "base_uri": "https://localhost:8080/"
        },
        "id": "f1XhB-A3buUJ",
        "outputId": "07cdde18-67af-4354-a196-e4e49edd2551"
      },
      "execution_count": null,
      "outputs": [
        {
          "output_type": "stream",
          "name": "stdout",
          "text": [
            "1\n",
            "2\n",
            "3\n",
            "4\n"
          ]
        }
      ]
    },
    {
      "cell_type": "code",
      "source": [
        "#removing empty tuples\n",
        "def Remove(tuples):\n",
        "    tuples = [t for t in tuples if t]\n",
        "    return tuples\n",
        "\n",
        "# Driver Code\n",
        "tuples = [(), ('ram','15','8'), (), ('laxman', 'sita'),\n",
        "          ('krishna', 'akbar', '45'), ('',''),()]\n",
        "print(Remove(tuples))"
      ],
      "metadata": {
        "colab": {
          "base_uri": "https://localhost:8080/"
        },
        "id": "sii5Vmx0ehhb",
        "outputId": "8602d3e7-2a53-4dd1-d797-d98a8a9d8c84"
      },
      "execution_count": null,
      "outputs": [
        {
          "output_type": "stream",
          "name": "stdout",
          "text": [
            "[('ram', '15', '8'), ('laxman', 'sita'), ('krishna', 'akbar', '45'), ('', '')]\n"
          ]
        }
      ]
    },
    {
      "cell_type": "code",
      "source": [
        "tuples = [(), ('ram', '15', '8'), (), ('laxman', 'sita'),\n",
        "          ('krishna', 'akbar', '45'), ('', ''), ()]\n",
        "\n",
        "def remove(tuples):\n",
        "  for i in tuples:\n",
        "    if(len(i)==0):\n",
        "      tuples.remove(i)\n",
        "    return tuples\n",
        "print(Remove(tuples))"
      ],
      "metadata": {
        "colab": {
          "base_uri": "https://localhost:8080/"
        },
        "id": "8O42JQqpemqU",
        "outputId": "24a921aa-f57e-42ee-ae7c-4865bccd3be2"
      },
      "execution_count": null,
      "outputs": [
        {
          "output_type": "stream",
          "name": "stdout",
          "text": [
            "[('ram', '15', '8'), ('laxman', 'sita'), ('krishna', 'akbar', '45'), ('', '')]\n"
          ]
        }
      ]
    },
    {
      "cell_type": "code",
      "source": [
        "#program to print duplicates\n",
        "list1 = [10, 20, 30, 20, 20, 30, 40, 50, -20, 60, 60, -20, -20]\n",
        "\n",
        "# List to keep track of printed duplicates\n",
        "printed_duplicates = []\n",
        "\n",
        "for i in range(len(list1)):\n",
        "    for j in range(i + 1, len(list1)):\n",
        "        if list1[i] == list1[j] and list1[i] not in printed_duplicates:\n",
        "            print(list1[i])\n",
        "            printed_duplicates.append(list1[i])\n",
        "            break  # Exit the inner loop to avoid printing the same duplicate again"
      ],
      "metadata": {
        "colab": {
          "base_uri": "https://localhost:8080/"
        },
        "id": "zzKQFYlBfPCr",
        "outputId": "4b6b67cd-7547-4f99-c8cd-79c04c43c78f"
      },
      "execution_count": null,
      "outputs": [
        {
          "output_type": "stream",
          "name": "stdout",
          "text": [
            "20\n",
            "30\n",
            "-20\n",
            "60\n"
          ]
        }
      ]
    }
  ]
}